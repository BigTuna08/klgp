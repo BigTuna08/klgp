{
 "cells": [
  {
   "cell_type": "code",
   "execution_count": null,
   "metadata": {},
   "outputs": [],
   "source": []
  },
  {
   "cell_type": "code",
   "execution_count": 1,
   "metadata": {},
   "outputs": [],
   "source": [
    "floc = \"config_items\""
   ]
  },
  {
   "cell_type": "code",
   "execution_count": 5,
   "metadata": {},
   "outputs": [
    {
     "name": "stdout",
     "output_type": "stream",
     "text": [
      "['locs', 'min_fits', 'n_evals', 'pop_sizes', 'init_pop_sizes', 'mutation_methods', 'compare_methods']\n"
     ]
    }
   ],
   "source": [
    "with open(floc) as f:\n",
    "    fields = list(map(lambda x: x.strip().rstrip(\",\"),f.readlines()))\n",
    "    print(fields)"
   ]
  },
  {
   "cell_type": "code",
   "execution_count": 52,
   "metadata": {},
   "outputs": [
    {
     "name": "stdout",
     "output_type": "stream",
     "text": [
      "let i = self.current_i;\n",
      "self.current_i += 1;\n",
      "let d0 = self.compare_methods.len();\n",
      "let d1 = self.mutation_methods.len();\n",
      "let d2 = self.init_pop_sizes.len();\n",
      "let d3 = self.pop_sizes.len();\n",
      "let d4 = self.n_evals.len();\n",
      "let d5 = self.min_fits.len();\n",
      "let d6 = self.locs.len();\n",
      "\n",
      "if i == d0*d1*d2*d3*d4*d5*d6 {return None}\n",
      "\n",
      "let i0 = (i.div_euclid(1) )% d0;\n",
      "let i1 = (i.div_euclid(d0) )% d1;\n",
      "let i2 = (i.div_euclid(d0*d1) )% d2;\n",
      "let i3 = (i.div_euclid(d0*d1*d2) )% d3;\n",
      "let i4 = (i.div_euclid(d0*d1*d2*d3) )% d4;\n",
      "let i5 = (i.div_euclid(d0*d1*d2*d3*d4) )% d5;\n",
      "let i6 = (i.div_euclid(d0*d1*d2*d3*d4*d5) )% d6;\n",
      "\n",
      "let compare_method = self.compare_methods[i0];\n",
      "let mutation_method = self.mutation_methods[i1];\n",
      "let init_pop_size = self.init_pop_sizes[i2];\n",
      "let pop_size = self.pop_sizes[i3];\n",
      "let n_eval = self.n_evals[i4];\n",
      "let min_fit = self.min_fits[i5];\n",
      "let loc = self.locs[i6];\n",
      "\n",
      "//this fn was generated in python\n",
      "Some(PConfig{\n",
      "\tcompare_method,\n",
      "\tmutation_method,\n",
      "\tinit_pop_size,\n",
      "\tpop_size,\n",
      "\tn_eval,\n",
      "\tmin_fit,\n",
      "\tloc,\n",
      "})\n"
     ]
    }
   ],
   "source": [
    "print(\"let i = self.current_i;\".format(i, item))\n",
    "print(\"self.current_i += 1;\")\n",
    "for i, item in enumerate(reversed(fields)):\n",
    "    print(\"let d{} = self.{}.len();\".format(i, item))\n",
    "    \n",
    "    \n",
    "v = \"*\".join(map(lambda x: \"d{}\".format(x), range(len(fields))))\n",
    "print(\"\\n\", \"if i == \", v, \" {return None}\", \"\\n\", sep=\"\")\n",
    "\n",
    "\n",
    "for i, item in enumerate(reversed(fields)):\n",
    "    floor_by = \"*\".join(map(lambda x: \"d{}\".format(x), range(i)))\n",
    "    if not floor_by: floor_by = \"1\"\n",
    "\n",
    "    print(\"let i{} = (i.div_euclid({}) )% d{};\".format(i, floor_by, i))\n",
    "    \n",
    "\n",
    "    \n",
    "print()\n",
    "\n",
    "for i, item in enumerate(reversed(fields)):\n",
    "    print(\"let {} = self.{}[i{}];\".format(item.strip(\"s\"), item, i))\n",
    "    \n",
    "print()\n",
    "\n",
    "\n",
    "print(\"//this fn was generated in python\")\n",
    "print(\"Some(PConfig{\")\n",
    "for i, item in enumerate(reversed(fields)):\n",
    "    print(\"\\t\"+item.strip(\"s\")+\",\")\n",
    "print(\"})\")"
   ]
  },
  {
   "cell_type": "code",
   "execution_count": null,
   "metadata": {},
   "outputs": [],
   "source": []
  },
  {
   "cell_type": "code",
   "execution_count": null,
   "metadata": {},
   "outputs": [],
   "source": [
    "let i0 = (i // (1) )     % d0\n",
    "let i1 = (i // (1*d0)  ) % d1\n",
    "let i2 = (i // (1*d0*d1) ) % d2 "
   ]
  },
  {
   "cell_type": "code",
   "execution_count": null,
   "metadata": {},
   "outputs": [],
   "source": [
    "let i0 = i % d0\n",
    "let i1 = (i // d0) % d1\n",
    "let i2 = (i // (d0*d1) ) % d2 "
   ]
  }
 ],
 "metadata": {
  "kernelspec": {
   "display_name": "Python 3",
   "language": "python",
   "name": "python3"
  },
  "language_info": {
   "codemirror_mode": {
    "name": "ipython",
    "version": 3
   },
   "file_extension": ".py",
   "mimetype": "text/x-python",
   "name": "python",
   "nbconvert_exporter": "python",
   "pygments_lexer": "ipython3",
   "version": "3.7.4"
  }
 },
 "nbformat": 4,
 "nbformat_minor": 2
}
